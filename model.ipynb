{
 "cells": [
  {
   "cell_type": "code",
   "execution_count": 3,
   "metadata": {},
   "outputs": [],
   "source": [
    "import pandas as pd\n",
    "import numpy as np\n",
    "\n",
    "def load_data_from_csv(filename):\n",
    "    return pd.read_csv(filename)"
   ]
  },
  {
   "cell_type": "code",
   "execution_count": 4,
   "metadata": {},
   "outputs": [],
   "source": [
    "dataset = load_data_from_csv('dataset.csv')"
   ]
  },
  {
   "cell_type": "markdown",
   "metadata": {},
   "source": [
    "Preprocessing: Use one hot encoding with one row per character"
   ]
  },
  {
   "cell_type": "code",
   "execution_count": 5,
   "metadata": {},
   "outputs": [
    {
     "name": "stderr",
     "output_type": "stream",
     "text": [
      "C:\\Users\\Manu\\AppData\\Local\\Temp\\ipykernel_18220\\4209948579.py:12: SettingWithCopyWarning: \n",
      "A value is trying to be set on a copy of a slice from a DataFrame\n",
      "\n",
      "See the caveats in the documentation: https://pandas.pydata.org/pandas-docs/stable/user_guide/indexing.html#returning-a-view-versus-a-copy\n",
      "  chunk.dropna(inplace=True)\n",
      "C:\\Users\\Manu\\AppData\\Local\\Temp\\ipykernel_18220\\4209948579.py:13: SettingWithCopyWarning: \n",
      "A value is trying to be set on a copy of a slice from a DataFrame.\n",
      "Try using .loc[row_indexer,col_indexer] = value instead\n",
      "\n",
      "See the caveats in the documentation: https://pandas.pydata.org/pandas-docs/stable/user_guide/indexing.html#returning-a-view-versus-a-copy\n",
      "  chunk['one_hot'] = chunk['word'].map(partial(one_hot_word, possible_characters=characters, default_length = max_characters))\n",
      "C:\\Users\\Manu\\AppData\\Local\\Temp\\ipykernel_18220\\4209948579.py:14: SettingWithCopyWarning: \n",
      "A value is trying to be set on a copy of a slice from a DataFrame.\n",
      "Try using .loc[row_indexer,col_indexer] = value instead\n",
      "\n",
      "See the caveats in the documentation: https://pandas.pydata.org/pandas-docs/stable/user_guide/indexing.html#returning-a-view-versus-a-copy\n",
      "  chunk['labels'] = chunk['gender'].map(partial(generate_classification_labels, classes=possible_classes))\n"
     ]
    }
   ],
   "source": [
    "from utils import one_hot_word, generate_classification_labels\n",
    "from functools import partial\n",
    "\n",
    "max_characters = 32\n",
    "\n",
    "possible_classes = ['m', 'f', 'n']\n",
    "\n",
    "def preprocessing(chunk):\n",
    "    characters = \"abcdefghijklmnopqrstuvwxyzäöüß\"\n",
    "    chunk['word'] = chunk['word'].str.lower()\n",
    "    chunk = chunk[chunk['word'].str.len() < max_characters]\n",
    "    chunk.dropna(inplace=True)\n",
    "    chunk['one_hot'] = chunk['word'].map(partial(one_hot_word, possible_characters=characters, default_length = max_characters))\n",
    "    chunk['labels'] = chunk['gender'].map(partial(generate_classification_labels, classes=possible_classes))\n",
    "    return chunk\n",
    "\n",
    "dataset = preprocessing(dataset)\n",
    "\n"
   ]
  },
  {
   "cell_type": "code",
   "execution_count": 6,
   "metadata": {},
   "outputs": [],
   "source": [
    "from utils import split_data\n",
    "\n",
    "train_x, train_y, val_x, val_y, test_x, test_y = split_data(dataset, ['one_hot'], ['labels'])\n"
   ]
  },
  {
   "cell_type": "markdown",
   "metadata": {},
   "source": [
    "Convert everyhing to np.array"
   ]
  },
  {
   "cell_type": "code",
   "execution_count": 7,
   "metadata": {},
   "outputs": [
    {
     "name": "stdout",
     "output_type": "stream",
     "text": [
      "(301210, 31, 32)\n",
      "(301210, 3)\n"
     ]
    }
   ],
   "source": [
    "def x_to_array(x):\n",
    "    return np.squeeze(np.array(x.values.tolist()))\n",
    "\n",
    "\n",
    "train_x = x_to_array(train_x)\n",
    "val_x = x_to_array(val_x)\n",
    "test_x = x_to_array(test_x)\n",
    "\n",
    "train_y = x_to_array(train_y)\n",
    "val_y = x_to_array(val_y)\n",
    "test_y = x_to_array(test_y)\n",
    "\n",
    "print(np.shape(train_x))\n",
    "print(np.shape(train_y))"
   ]
  },
  {
   "cell_type": "code",
   "execution_count": 8,
   "metadata": {},
   "outputs": [],
   "source": [
    "import tensorflow as tf\n",
    "from tensorflow import keras\n",
    "from tensorflow.keras import layers\n"
   ]
  },
  {
   "cell_type": "code",
   "execution_count": 9,
   "metadata": {},
   "outputs": [
    {
     "data": {
      "text/plain": [
       "<module 'utils' from 'c:\\\\Users\\\\Manu\\\\OneDrive\\\\Escritorio\\\\Python\\\\boludeo_tensorflw\\\\utils.py'>"
      ]
     },
     "execution_count": 9,
     "metadata": {},
     "output_type": "execute_result"
    }
   ],
   "source": [
    "import importlib\n",
    "import utils\n",
    "importlib.reload(utils)"
   ]
  },
  {
   "cell_type": "markdown",
   "metadata": {},
   "source": [
    "## First version"
   ]
  },
  {
   "cell_type": "code",
   "execution_count": null,
   "metadata": {},
   "outputs": [],
   "source": [
    "learning_rate = 0.001\n",
    "\n",
    "batch_size = 64\n",
    "\n",
    "epochs = 50"
   ]
  },
  {
   "cell_type": "code",
   "execution_count": null,
   "metadata": {},
   "outputs": [],
   "source": [
    "\n",
    "loss = keras.losses.CategoricalCrossentropy()\n",
    "optim = keras.optimizers.SGD(learning_rate=learning_rate)\n",
    "metrics = [\"accuracy\"]\n",
    "\n",
    "model = keras.models.Sequential()\n",
    "\n",
    "model.add(layers.Conv1D(filters = 32, kernel_size=3, strides = 1, activation='relu', data_format = 'channels_last', input_shape=(31, 32)))\n",
    "\n",
    "model.add(layers.Flatten())\n",
    "\n",
    "model.add(layers.Dense(32, activation='relu'))\n",
    "\n",
    "model.add(layers.Dense(3, activation='softmax'))\n",
    "\n",
    "model.compile(loss=loss, optimizer=optim, metrics=metrics)\n",
    "\n",
    "model.summary()\n",
    "\n"
   ]
  },
  {
   "cell_type": "code",
   "execution_count": null,
   "metadata": {},
   "outputs": [],
   "source": [
    "model.fit(train_x, train_y, batch_size=batch_size, epochs=epochs, validation_data=(val_x, val_y), verbose=2, shuffle=True)\n",
    "\n",
    "model.evaluate(test_x, test_y, batch_size=batch_size, verbose=2)\n",
    "\n",
    "model.summary()"
   ]
  },
  {
   "cell_type": "markdown",
   "metadata": {},
   "source": [
    "Learning rate 0.01 until epoch 30, 0.001 until epoch 80\n",
    "\n",
    "30 epochs: accuracy ~80%\n",
    "\n",
    "80 epochs: \n",
    "\n",
    "### Final accuracy: 0.8468"
   ]
  },
  {
   "cell_type": "markdown",
   "metadata": {},
   "source": [
    "# Second version: add regularization"
   ]
  },
  {
   "cell_type": "code",
   "execution_count": null,
   "metadata": {},
   "outputs": [],
   "source": [
    "learning_rate_1 = 0.01\n",
    "learning_rate_2 = 0.001\n",
    "\n",
    "batch_size = 64\n",
    "\n",
    "first_round_epochs = 40\n",
    "second_round_epochs = 40\n",
    "\n",
    "regulizer = keras.regularizers.l2(0.0001)"
   ]
  },
  {
   "cell_type": "code",
   "execution_count": null,
   "metadata": {},
   "outputs": [],
   "source": [
    "model = keras.models.Sequential()\n",
    "\n",
    "model.add(layers.Conv1D(filters = 32, kernel_size=3, strides = 1, activation='relu', data_format = 'channels_last', input_shape=(31, 32)))\n",
    "\n",
    "model.add(layers.Flatten())\n",
    "\n",
    "model.add(layers.Dense(32, activation='relu', kernel_regularizer=regulizer))\n",
    "\n",
    "model.add(layers.Dense(3, activation='softmax', kernel_regularizer=regulizer))\n"
   ]
  },
  {
   "cell_type": "code",
   "execution_count": null,
   "metadata": {},
   "outputs": [],
   "source": [
    "loss = keras.losses.CategoricalCrossentropy()\n",
    "optim = keras.optimizers.SGD(learning_rate=learning_rate_1)\n",
    "metrics = [\"accuracy\"]\n",
    "\n",
    "model.compile(loss=loss, optimizer=optim, metrics=metrics)\n",
    "\n",
    "history1 = model.fit(train_x, train_y, batch_size=batch_size, epochs=first_round_epochs, validation_data=(val_x, val_y), verbose=2, shuffle=True)\n",
    "\n",
    "first_result = model.evaluate(test_x, test_y, batch_size=batch_size, verbose=2)\n",
    "\n",
    "optim = keras.optimizers.SGD(learning_rate=learning_rate_2)\n",
    "\n",
    "model.compile(loss=loss, optimizer=optim, metrics=metrics)\n",
    "\n",
    "history2 = model.fit(train_x, train_y, batch_size=batch_size, epochs=second_round_epochs, validation_data=(val_x, val_y), verbose=2, shuffle=True)\n",
    "\n",
    "second_result = model.evaluate(test_x, test_y, batch_size=batch_size, verbose=2)\n",
    "\n",
    "model.summary()"
   ]
  },
  {
   "cell_type": "markdown",
   "metadata": {},
   "source": [
    "**First try**: regularization with lambda = 0.01 in all layers, absolute disaster. Validation accuracy 0.5369 after 30 epochs.\n",
    "\n",
    "![Alt](plots/second_attempt_1.png)"
   ]
  },
  {
   "cell_type": "markdown",
   "metadata": {},
   "source": [
    "**Second try**: changed lambda to 0.0001, 30 epochs at learning rate 0.01, 50 at 0.001. Validation accuracy 82.23%. Still worse than without regularization.\n",
    "\n",
    "![second_attempt_2.png](plots/second_attempt_2.png)\n",
    "\n",
    "Doesn't seem to be oscilating, just growing slowly. Further lowering the learning rate probably won't help.\n",
    "\n",
    "![second_attempt_21.png](plots/second_attempt_21.png)"
   ]
  },
  {
   "cell_type": "markdown",
   "metadata": {},
   "source": [
    "**Third try**: Removed the regularization from the convolutional layer, 40 epochs with learning rate 0.01 and 40 with 0.001. Lambda still at 0.0001. Accuracy 0.8347. Better than last, but still worse than without regularization.\n",
    "\n",
    "![second_attempt_31.png](plots/second_attempt_31.png)\n",
    "\n",
    "The model also would seem to be overfitting, given that there was more difference between the training and validation accuracy than there had been in previous tries, so more epochs would probably have been useless. \n",
    "\n",
    "![second_attempt_32.png](plots/second_attempt_32.png)"
   ]
  },
  {
   "cell_type": "markdown",
   "metadata": {},
   "source": [
    "### Final accuracy: 0.8347\n",
    "\n",
    "Regularization doesn't seem to have a positive effect, or at least I could not find an appropiate lambda."
   ]
  },
  {
   "cell_type": "code",
   "execution_count": null,
   "metadata": {},
   "outputs": [],
   "source": [
    "histories = utils.merge_histories([history1, history2])\n",
    "\n",
    "\n",
    "utils.plot_accuracy(utils.slice_history(histories, start = 40))\n"
   ]
  },
  {
   "cell_type": "markdown",
   "metadata": {},
   "source": [
    "# Third version: tweaking the convolutional layer"
   ]
  },
  {
   "cell_type": "code",
   "execution_count": null,
   "metadata": {},
   "outputs": [],
   "source": [
    "learning_rates = [0.02, 0.01, 0.005, 0.001]\n",
    "epochs = [10, 10, 20, 10]\n",
    "\n",
    "batch_size = 48\n",
    "\n"
   ]
  },
  {
   "cell_type": "code",
   "execution_count": null,
   "metadata": {},
   "outputs": [],
   "source": [
    "model = keras.models.Sequential()\n",
    "\n",
    "model.add(layers.Conv1D(filters = 40, kernel_size=3, strides = 1, activation='relu', data_format = 'channels_last', input_shape=(31, 32)))\n",
    "\n",
    "model.add(layers.MaxPooling1D(pool_size=2))\n",
    "\n",
    "model.add(layers.Flatten())\n",
    "\n",
    "model.add(layers.Dense(32, activation='relu'))\n",
    "\n",
    "model.add(layers.Dense(3, activation='softmax'))\n"
   ]
  },
  {
   "cell_type": "code",
   "execution_count": null,
   "metadata": {},
   "outputs": [],
   "source": [
    "loss = keras.losses.CategoricalCrossentropy()\n",
    "metrics = [\"accuracy\"]\n",
    "\n",
    "\n",
    "\n",
    "histories = []\n",
    "for l_rate, epochs in zip(learning_rates, epochs):\n",
    "    optim = keras.optimizers.SGD(learning_rate=l_rate)\n",
    "    model.compile(loss=loss, optimizer=optim, metrics=metrics)\n",
    "    history = model.fit(train_x, train_y, batch_size=batch_size, epochs=epochs, validation_data=(val_x, val_y), verbose=2, shuffle=True)\n",
    "    histories.append(history)\n",
    "\n",
    "result = model.evaluate(test_x, test_y, batch_size=batch_size, verbose=2)\n",
    "\n",
    "model.summary()"
   ]
  },
  {
   "cell_type": "markdown",
   "metadata": {},
   "source": [
    "**First try**: Increased the number of filters from 32 to 40 and the strides from 3 to 5. Learning rates 0.02, 0.005, and 0.001, 20 epochs each. Accuracy 0.8522, best result yet, but with a lot of overfitting, since the accuracy for the training data was 0.8732. The next iteration should probably try to reduce the overfitting.  \n",
    "\n",
    "![third_attempt_11.png](plots/third_attempt_11.png)\n",
    "\n",
    "It would also seem that the learning rate was too high from epoch 10 to 20, given the oscilation.\n",
    "\n",
    "![third_attempt_12.png](plots/third_attempt_12.png)\n",
    "\n",
    "The model also improved very little in the last 20 epochs. \n",
    "\n",
    "![third_attempt_13.png](plots/third_attempt_13.png)\n",
    "\n"
   ]
  },
  {
   "cell_type": "code",
   "execution_count": null,
   "metadata": {},
   "outputs": [],
   "source": [
    "histories = utils.merge_histories(histories)\n",
    "\n",
    "utils.plot_accuracy(histories)"
   ]
  },
  {
   "cell_type": "markdown",
   "metadata": {},
   "source": [
    "**Second try**:\n",
    "\n",
    "```py\n",
    "learning_rates = [0.02, 0.01, 0.005, 0.001]\n",
    "epochs = [10, 10, 20, 10]\n",
    "\n",
    "batch_size = 48\n",
    "\n",
    "regulizer = keras.regularizers.l2(0.00005)\n",
    "```\n",
    "\n",
    "Accuracy 0.8514, similar to the previous result. Overfitting remains similarly high.\n",
    "\n",
    "![third_attempt_21.png](plots/third_attempt_21.png)"
   ]
  },
  {
   "cell_type": "markdown",
   "metadata": {},
   "source": [
    "**Third try**: Raised lambda to 0.0005, reduced accuracy but also somewhat less overfitting. \n",
    "\n",
    "![third_attempt_31.png](plots/third_attempt_31.png)\n"
   ]
  },
  {
   "cell_type": "markdown",
   "metadata": {},
   "source": [
    "**Fourth try**: Added a pooling layer, otherwise same as last. Accuracy 0.8392.\n",
    "\n",
    "![third_attempt_41.png](plots/third_attempt_41.png)"
   ]
  },
  {
   "cell_type": "markdown",
   "metadata": {},
   "source": [
    "**Fifth try**: reduced the kernel size to 3, but accuracy decreased significantly. No regularization. \n",
    "\n",
    "![third_attempt_51.png](plots/third_attempt_51.png)"
   ]
  },
  {
   "cell_type": "markdown",
   "metadata": {},
   "source": [
    "### Final accuracy: 0.8522\n",
    "\n",
    "Raising the amount of filters and enlarging the strides seems to slightly improve the accuracy, but there was also more overfitting. "
   ]
  },
  {
   "cell_type": "markdown",
   "metadata": {},
   "source": [
    "# Fourth version: parallel convolutional layers with different kernel sizes\n"
   ]
  },
  {
   "cell_type": "code",
   "execution_count": 21,
   "metadata": {},
   "outputs": [],
   "source": [
    "learning_rates = [0.02, 0.01, 0.005, 0.001, 0.0003]\n",
    "epochs = [10, 10, 20, 10, 10]\n",
    "\n",
    "batch_size = 32\n",
    "\n"
   ]
  },
  {
   "cell_type": "code",
   "execution_count": 22,
   "metadata": {},
   "outputs": [
    {
     "name": "stdout",
     "output_type": "stream",
     "text": [
      "Model: \"model_3\"\n",
      "__________________________________________________________________________________________________\n",
      " Layer (type)                   Output Shape         Param #     Connected to                     \n",
      "==================================================================================================\n",
      " input_4 (InputLayer)           [(None, 31, 32)]     0           []                               \n",
      "                                                                                                  \n",
      " conv1d_12 (Conv1D)             (None, 31, 15)       1455        ['input_4[0][0]']                \n",
      "                                                                                                  \n",
      " conv1d_13 (Conv1D)             (None, 31, 15)       2415        ['input_4[0][0]']                \n",
      "                                                                                                  \n",
      " max_pooling1d_9 (MaxPooling1D)  (None, 15, 15)      0           ['conv1d_12[0][0]']              \n",
      "                                                                                                  \n",
      " max_pooling1d_10 (MaxPooling1D  (None, 15, 15)      0           ['conv1d_13[0][0]']              \n",
      " )                                                                                                \n",
      "                                                                                                  \n",
      " concatenate_3 (Concatenate)    (None, 30, 15)       0           ['max_pooling1d_9[0][0]',        \n",
      "                                                                  'max_pooling1d_10[0][0]']       \n",
      "                                                                                                  \n",
      " conv1d_14 (Conv1D)             (None, 30, 15)       690         ['concatenate_3[0][0]']          \n",
      "                                                                                                  \n",
      " max_pooling1d_11 (MaxPooling1D  (None, 15, 15)      0           ['conv1d_14[0][0]']              \n",
      " )                                                                                                \n",
      "                                                                                                  \n",
      " conv1d_15 (Conv1D)             (None, 15, 15)       465         ['max_pooling1d_11[0][0]']       \n",
      "                                                                                                  \n",
      " flatten_3 (Flatten)            (None, 225)          0           ['conv1d_15[0][0]']              \n",
      "                                                                                                  \n",
      " dense_6 (Dense)                (None, 32)           7232        ['flatten_3[0][0]']              \n",
      "                                                                                                  \n",
      " dense_7 (Dense)                (None, 3)            99          ['dense_6[0][0]']                \n",
      "                                                                                                  \n",
      "==================================================================================================\n",
      "Total params: 12,356\n",
      "Trainable params: 12,356\n",
      "Non-trainable params: 0\n",
      "__________________________________________________________________________________________________\n"
     ]
    }
   ],
   "source": [
    "\n",
    "input = layers.Input(shape=(31, 32))\n",
    "\n",
    "\n",
    "conv2 = layers.Conv1D(filters = 15, kernel_size=3, strides = 1, activation='relu', data_format = 'channels_last', padding = 'same')(input)\n",
    "pool2 = layers.MaxPooling1D(pool_size=2)(conv2)\n",
    "\n",
    "conv3 = layers.Conv1D(filters = 15, kernel_size=5, strides = 1, activation='relu', data_format = 'channels_last', padding = 'same')(input)\n",
    "pool3 = layers.MaxPooling1D(pool_size=2)(conv3)\n",
    "\n",
    "concat = layers.concatenate([pool2, pool3], axis=1)\n",
    "\n",
    "conv4 = layers.Conv1D(filters = 15, kernel_size=3, strides = 1, activation='relu', data_format = 'channels_last', padding = 'same')(concat)\n",
    "\n",
    "pool4 = layers.MaxPooling1D(pool_size=2)(conv4)\n",
    "\n",
    "conv5 = layers.Conv1D(filters = 15, kernel_size=2, strides = 1, activation='relu', data_format = 'channels_last', padding = 'same')(pool4)\n",
    "\n",
    "flat = layers.Flatten()(conv5)\n",
    "\n",
    "dense1 = layers.Dense(32, activation='relu')(flat)\n",
    "\n",
    "output = layers.Dense(3, activation='softmax')(dense1)\n",
    "\n",
    "model = keras.models.Model(inputs=input, outputs=output)\n",
    "\n",
    "\n",
    "keras.utils.plot_model(model, to_file='model_plot.png', show_shapes=True, show_layer_names=True)\n",
    "\n",
    "model.summary()\n"
   ]
  },
  {
   "cell_type": "code",
   "execution_count": 23,
   "metadata": {},
   "outputs": [
    {
     "name": "stdout",
     "output_type": "stream",
     "text": [
      "Epoch 1/10\n",
      "9413/9413 - 76s - loss: 0.9753 - accuracy: 0.5267 - val_loss: 0.8883 - val_accuracy: 0.5897 - 76s/epoch - 8ms/step\n",
      "Epoch 2/10\n",
      "9413/9413 - 74s - loss: 0.7993 - accuracy: 0.6479 - val_loss: 0.7311 - val_accuracy: 0.6821 - 74s/epoch - 8ms/step\n",
      "Epoch 3/10\n",
      "9413/9413 - 75s - loss: 0.6831 - accuracy: 0.7080 - val_loss: 0.6390 - val_accuracy: 0.7310 - 75s/epoch - 8ms/step\n",
      "Epoch 4/10\n",
      "9413/9413 - 74s - loss: 0.6194 - accuracy: 0.7397 - val_loss: 0.6035 - val_accuracy: 0.7431 - 74s/epoch - 8ms/step\n",
      "Epoch 5/10\n",
      "9413/9413 - 74s - loss: 0.5781 - accuracy: 0.7594 - val_loss: 0.5628 - val_accuracy: 0.7658 - 74s/epoch - 8ms/step\n",
      "Epoch 6/10\n",
      "9413/9413 - 74s - loss: 0.5463 - accuracy: 0.7761 - val_loss: 0.5694 - val_accuracy: 0.7677 - 74s/epoch - 8ms/step\n",
      "Epoch 7/10\n",
      "9413/9413 - 74s - loss: 0.5232 - accuracy: 0.7877 - val_loss: 0.5206 - val_accuracy: 0.7935 - 74s/epoch - 8ms/step\n",
      "Epoch 8/10\n",
      "9413/9413 - 77s - loss: 0.5037 - accuracy: 0.7972 - val_loss: 0.5105 - val_accuracy: 0.7928 - 77s/epoch - 8ms/step\n",
      "Epoch 9/10\n",
      "9413/9413 - 75s - loss: 0.4874 - accuracy: 0.8060 - val_loss: 0.5060 - val_accuracy: 0.7994 - 75s/epoch - 8ms/step\n",
      "Epoch 10/10\n",
      "9413/9413 - 75s - loss: 0.4730 - accuracy: 0.8133 - val_loss: 0.4729 - val_accuracy: 0.8158 - 75s/epoch - 8ms/step\n",
      "Epoch 1/10\n",
      "9413/9413 - 76s - loss: 0.4402 - accuracy: 0.8284 - val_loss: 0.4461 - val_accuracy: 0.8269 - 76s/epoch - 8ms/step\n",
      "Epoch 2/10\n",
      "9413/9413 - 74s - loss: 0.4325 - accuracy: 0.8324 - val_loss: 0.4444 - val_accuracy: 0.8278 - 74s/epoch - 8ms/step\n",
      "Epoch 3/10\n",
      "9413/9413 - 74s - loss: 0.4270 - accuracy: 0.8348 - val_loss: 0.4372 - val_accuracy: 0.8325 - 74s/epoch - 8ms/step\n",
      "Epoch 4/10\n",
      "9413/9413 - 73s - loss: 0.4213 - accuracy: 0.8372 - val_loss: 0.4359 - val_accuracy: 0.8311 - 73s/epoch - 8ms/step\n",
      "Epoch 5/10\n",
      "9413/9413 - 74s - loss: 0.4168 - accuracy: 0.8397 - val_loss: 0.4348 - val_accuracy: 0.8352 - 74s/epoch - 8ms/step\n",
      "Epoch 6/10\n",
      "9413/9413 - 73s - loss: 0.4126 - accuracy: 0.8417 - val_loss: 0.4237 - val_accuracy: 0.8375 - 73s/epoch - 8ms/step\n",
      "Epoch 7/10\n",
      "9413/9413 - 73s - loss: 0.4075 - accuracy: 0.8440 - val_loss: 0.4233 - val_accuracy: 0.8371 - 73s/epoch - 8ms/step\n",
      "Epoch 8/10\n",
      "9413/9413 - 73s - loss: 0.4035 - accuracy: 0.8454 - val_loss: 0.4261 - val_accuracy: 0.8388 - 73s/epoch - 8ms/step\n",
      "Epoch 9/10\n",
      "9413/9413 - 74s - loss: 0.3996 - accuracy: 0.8473 - val_loss: 0.4168 - val_accuracy: 0.8428 - 74s/epoch - 8ms/step\n",
      "Epoch 10/10\n",
      "9413/9413 - 74s - loss: 0.3959 - accuracy: 0.8494 - val_loss: 0.4178 - val_accuracy: 0.8421 - 74s/epoch - 8ms/step\n",
      "Epoch 1/20\n",
      "9413/9413 - 74s - loss: 0.3778 - accuracy: 0.8574 - val_loss: 0.3976 - val_accuracy: 0.8499 - 74s/epoch - 8ms/step\n",
      "Epoch 2/20\n",
      "9413/9413 - 73s - loss: 0.3749 - accuracy: 0.8592 - val_loss: 0.3964 - val_accuracy: 0.8522 - 73s/epoch - 8ms/step\n",
      "Epoch 3/20\n",
      "9413/9413 - 73s - loss: 0.3724 - accuracy: 0.8597 - val_loss: 0.3975 - val_accuracy: 0.8513 - 73s/epoch - 8ms/step\n",
      "Epoch 4/20\n",
      "9413/9413 - 73s - loss: 0.3707 - accuracy: 0.8604 - val_loss: 0.3935 - val_accuracy: 0.8534 - 73s/epoch - 8ms/step\n",
      "Epoch 5/20\n",
      "9413/9413 - 73s - loss: 0.3689 - accuracy: 0.8616 - val_loss: 0.3934 - val_accuracy: 0.8539 - 73s/epoch - 8ms/step\n",
      "Epoch 6/20\n",
      "9413/9413 - 72s - loss: 0.3674 - accuracy: 0.8618 - val_loss: 0.3905 - val_accuracy: 0.8556 - 72s/epoch - 8ms/step\n",
      "Epoch 7/20\n",
      "9413/9413 - 74s - loss: 0.3655 - accuracy: 0.8631 - val_loss: 0.3998 - val_accuracy: 0.8511 - 74s/epoch - 8ms/step\n",
      "Epoch 8/20\n",
      "9413/9413 - 74s - loss: 0.3641 - accuracy: 0.8631 - val_loss: 0.3928 - val_accuracy: 0.8546 - 74s/epoch - 8ms/step\n",
      "Epoch 9/20\n",
      "9413/9413 - 74s - loss: 0.3624 - accuracy: 0.8642 - val_loss: 0.3944 - val_accuracy: 0.8546 - 74s/epoch - 8ms/step\n",
      "Epoch 10/20\n",
      "9413/9413 - 74s - loss: 0.3609 - accuracy: 0.8647 - val_loss: 0.3917 - val_accuracy: 0.8529 - 74s/epoch - 8ms/step\n",
      "Epoch 11/20\n",
      "9413/9413 - 73s - loss: 0.3595 - accuracy: 0.8652 - val_loss: 0.3891 - val_accuracy: 0.8559 - 73s/epoch - 8ms/step\n",
      "Epoch 12/20\n",
      "9413/9413 - 74s - loss: 0.3579 - accuracy: 0.8665 - val_loss: 0.3846 - val_accuracy: 0.8609 - 74s/epoch - 8ms/step\n",
      "Epoch 13/20\n",
      "9413/9413 - 76s - loss: 0.3566 - accuracy: 0.8662 - val_loss: 0.3865 - val_accuracy: 0.8576 - 76s/epoch - 8ms/step\n",
      "Epoch 14/20\n",
      "9413/9413 - 73s - loss: 0.3551 - accuracy: 0.8674 - val_loss: 0.3902 - val_accuracy: 0.8558 - 73s/epoch - 8ms/step\n",
      "Epoch 15/20\n",
      "9413/9413 - 74s - loss: 0.3539 - accuracy: 0.8685 - val_loss: 0.3859 - val_accuracy: 0.8592 - 74s/epoch - 8ms/step\n",
      "Epoch 16/20\n",
      "9413/9413 - 75s - loss: 0.3526 - accuracy: 0.8685 - val_loss: 0.3847 - val_accuracy: 0.8596 - 75s/epoch - 8ms/step\n",
      "Epoch 17/20\n",
      "9413/9413 - 74s - loss: 0.3511 - accuracy: 0.8693 - val_loss: 0.3830 - val_accuracy: 0.8602 - 74s/epoch - 8ms/step\n",
      "Epoch 18/20\n",
      "9413/9413 - 74s - loss: 0.3500 - accuracy: 0.8690 - val_loss: 0.3843 - val_accuracy: 0.8606 - 74s/epoch - 8ms/step\n",
      "Epoch 19/20\n",
      "9413/9413 - 73s - loss: 0.3487 - accuracy: 0.8702 - val_loss: 0.3771 - val_accuracy: 0.8623 - 73s/epoch - 8ms/step\n",
      "Epoch 20/20\n",
      "9413/9413 - 74s - loss: 0.3477 - accuracy: 0.8702 - val_loss: 0.3804 - val_accuracy: 0.8612 - 74s/epoch - 8ms/step\n",
      "Epoch 1/10\n",
      "9413/9413 - 75s - loss: 0.3316 - accuracy: 0.8778 - val_loss: 0.3684 - val_accuracy: 0.8665 - 75s/epoch - 8ms/step\n",
      "Epoch 2/10\n",
      "9413/9413 - 73s - loss: 0.3296 - accuracy: 0.8785 - val_loss: 0.3678 - val_accuracy: 0.8680 - 73s/epoch - 8ms/step\n",
      "Epoch 3/10\n",
      "9413/9413 - 73s - loss: 0.3288 - accuracy: 0.8789 - val_loss: 0.3675 - val_accuracy: 0.8664 - 73s/epoch - 8ms/step\n",
      "Epoch 4/10\n",
      "9413/9413 - 73s - loss: 0.3284 - accuracy: 0.8791 - val_loss: 0.3672 - val_accuracy: 0.8671 - 73s/epoch - 8ms/step\n",
      "Epoch 5/10\n",
      "9413/9413 - 75s - loss: 0.3279 - accuracy: 0.8798 - val_loss: 0.3681 - val_accuracy: 0.8674 - 75s/epoch - 8ms/step\n",
      "Epoch 6/10\n",
      "9413/9413 - 73s - loss: 0.3275 - accuracy: 0.8795 - val_loss: 0.3679 - val_accuracy: 0.8687 - 73s/epoch - 8ms/step\n",
      "Epoch 7/10\n",
      "9413/9413 - 73s - loss: 0.3271 - accuracy: 0.8799 - val_loss: 0.3671 - val_accuracy: 0.8682 - 73s/epoch - 8ms/step\n",
      "Epoch 8/10\n",
      "9413/9413 - 74s - loss: 0.3267 - accuracy: 0.8801 - val_loss: 0.3664 - val_accuracy: 0.8687 - 74s/epoch - 8ms/step\n",
      "Epoch 9/10\n",
      "9413/9413 - 74s - loss: 0.3264 - accuracy: 0.8804 - val_loss: 0.3682 - val_accuracy: 0.8675 - 74s/epoch - 8ms/step\n",
      "Epoch 10/10\n",
      "9413/9413 - 73s - loss: 0.3261 - accuracy: 0.8803 - val_loss: 0.3668 - val_accuracy: 0.8679 - 73s/epoch - 8ms/step\n",
      "Epoch 1/10\n",
      "9413/9413 - 73s - loss: 0.3227 - accuracy: 0.8817 - val_loss: 0.3654 - val_accuracy: 0.8689 - 73s/epoch - 8ms/step\n",
      "Epoch 2/10\n",
      "9413/9413 - 73s - loss: 0.3223 - accuracy: 0.8821 - val_loss: 0.3652 - val_accuracy: 0.8682 - 73s/epoch - 8ms/step\n",
      "Epoch 3/10\n",
      "9413/9413 - 73s - loss: 0.3220 - accuracy: 0.8824 - val_loss: 0.3652 - val_accuracy: 0.8697 - 73s/epoch - 8ms/step\n",
      "Epoch 4/10\n",
      "9413/9413 - 71s - loss: 0.3220 - accuracy: 0.8823 - val_loss: 0.3649 - val_accuracy: 0.8696 - 71s/epoch - 8ms/step\n",
      "Epoch 5/10\n",
      "9413/9413 - 73s - loss: 0.3218 - accuracy: 0.8823 - val_loss: 0.3650 - val_accuracy: 0.8690 - 73s/epoch - 8ms/step\n",
      "Epoch 6/10\n",
      "9413/9413 - 73s - loss: 0.3217 - accuracy: 0.8823 - val_loss: 0.3650 - val_accuracy: 0.8697 - 73s/epoch - 8ms/step\n",
      "Epoch 7/10\n",
      "9413/9413 - 73s - loss: 0.3216 - accuracy: 0.8823 - val_loss: 0.3654 - val_accuracy: 0.8691 - 73s/epoch - 8ms/step\n",
      "Epoch 8/10\n",
      "9413/9413 - 74s - loss: 0.3215 - accuracy: 0.8825 - val_loss: 0.3651 - val_accuracy: 0.8689 - 74s/epoch - 8ms/step\n",
      "Epoch 9/10\n",
      "9413/9413 - 73s - loss: 0.3214 - accuracy: 0.8821 - val_loss: 0.3647 - val_accuracy: 0.8691 - 73s/epoch - 8ms/step\n",
      "Epoch 10/10\n",
      "9413/9413 - 73s - loss: 0.3213 - accuracy: 0.8825 - val_loss: 0.3647 - val_accuracy: 0.8683 - 73s/epoch - 8ms/step\n",
      "1177/1177 - 5s - loss: 0.3591 - accuracy: 0.8724 - 5s/epoch - 4ms/step\n",
      "Model: \"model_3\"\n",
      "__________________________________________________________________________________________________\n",
      " Layer (type)                   Output Shape         Param #     Connected to                     \n",
      "==================================================================================================\n",
      " input_4 (InputLayer)           [(None, 31, 32)]     0           []                               \n",
      "                                                                                                  \n",
      " conv1d_12 (Conv1D)             (None, 31, 15)       1455        ['input_4[0][0]']                \n",
      "                                                                                                  \n",
      " conv1d_13 (Conv1D)             (None, 31, 15)       2415        ['input_4[0][0]']                \n",
      "                                                                                                  \n",
      " max_pooling1d_9 (MaxPooling1D)  (None, 15, 15)      0           ['conv1d_12[0][0]']              \n",
      "                                                                                                  \n",
      " max_pooling1d_10 (MaxPooling1D  (None, 15, 15)      0           ['conv1d_13[0][0]']              \n",
      " )                                                                                                \n",
      "                                                                                                  \n",
      " concatenate_3 (Concatenate)    (None, 30, 15)       0           ['max_pooling1d_9[0][0]',        \n",
      "                                                                  'max_pooling1d_10[0][0]']       \n",
      "                                                                                                  \n",
      " conv1d_14 (Conv1D)             (None, 30, 15)       690         ['concatenate_3[0][0]']          \n",
      "                                                                                                  \n",
      " max_pooling1d_11 (MaxPooling1D  (None, 15, 15)      0           ['conv1d_14[0][0]']              \n",
      " )                                                                                                \n",
      "                                                                                                  \n",
      " conv1d_15 (Conv1D)             (None, 15, 15)       465         ['max_pooling1d_11[0][0]']       \n",
      "                                                                                                  \n",
      " flatten_3 (Flatten)            (None, 225)          0           ['conv1d_15[0][0]']              \n",
      "                                                                                                  \n",
      " dense_6 (Dense)                (None, 32)           7232        ['flatten_3[0][0]']              \n",
      "                                                                                                  \n",
      " dense_7 (Dense)                (None, 3)            99          ['dense_6[0][0]']                \n",
      "                                                                                                  \n",
      "==================================================================================================\n",
      "Total params: 12,356\n",
      "Trainable params: 12,356\n",
      "Non-trainable params: 0\n",
      "__________________________________________________________________________________________________\n"
     ]
    }
   ],
   "source": [
    "loss = keras.losses.CategoricalCrossentropy()\n",
    "metrics = [\"accuracy\"]\n",
    "\n",
    "\n",
    "\n",
    "histories = []\n",
    "for l_rate, epochs in zip(learning_rates, epochs):\n",
    "    optim = keras.optimizers.SGD(learning_rate=l_rate)\n",
    "    model.compile(loss=loss, optimizer=optim, metrics=metrics)\n",
    "    history = model.fit(train_x, train_y, batch_size=batch_size, epochs=epochs, validation_data=(val_x, val_y), verbose=2, shuffle=True)\n",
    "    histories.append(history)\n",
    "\n",
    "result = model.evaluate(test_x, test_y, batch_size=batch_size, verbose=2)\n",
    "\n",
    "model.summary()\n"
   ]
  },
  {
   "cell_type": "code",
   "execution_count": 24,
   "metadata": {},
   "outputs": [],
   "source": [
    "model.save('model.h5')"
   ]
  },
  {
   "cell_type": "code",
   "execution_count": 25,
   "metadata": {},
   "outputs": [
    {
     "data": {
      "image/png": "[encoded data removed]",
      "text/plain": [
       "<Figure size 640x480 with 1 Axes>"
      ]
     },
     "execution_count": 25,
     "metadata": {},
     "output_type": "execute_result"
    },
    {
     "data": {
      "image/png": "[encoded data removed]",
      "text/plain": [
       "<Figure size 640x480 with 1 Axes>"
      ]
     },
     "metadata": {},
     "output_type": "display_data"
    }
   ],
   "source": [
    "histories = utils.merge_histories(histories)\n",
    "\n",
    "utils.plot_accuracy(utils.slice_history(histories))"
   ]
  },
  {
   "cell_type": "markdown",
   "metadata": {},
   "source": [
    "**First try**: with parallel layers TODO"
   ]
  },
  {
   "cell_type": "markdown",
   "metadata": {},
   "source": [
    "**Second try**: Two parallel convolutional and later max pooling layers, with filter sizes 3 and 5, connected to a subsequent second convolutional layer. \n",
    "\n",
    "```py\n",
    "learning_rates = [0.02, 0.01, 0.005, 0.001]\n",
    "epochs = [10, 10, 20, 10]\n",
    "\n",
    "batch_size = 32\n",
    "```\n",
    "\n",
    "Best result by far yet with 0.8799 accuracy. Seems to confirm that the deeper the better.\n",
    "\n",
    "![fourth_attempt_11.png](plots/fourth_attempt_11.png)"
   ]
  },
  {
   "cell_type": "markdown",
   "metadata": {},
   "source": [
    "**Third try**: added one more convolutional and pooling layer, other than that same setup as above. Accuracy 0.8850. \n",
    "\n",
    "![fourth_attempt_31.png](plots/fourth_attempt_31.png)\n",
    "\n",
    "Seems to have significantly less overfitting as well. \n",
    "\n"
   ]
  },
  {
   "cell_type": "markdown",
   "metadata": {},
   "source": [
    "**Fourth try**: Added yet another convolutional layer and the accuracy dropped by about 1% at the same amount of epochs, so going back to the previous architecture. Tried some 10 more epochs with a smaller learning but didn't change much.\n",
    "\n",
    "![fourth_attempt_41.png](plots/fourth_attempt_41.png)"
   ]
  },
  {
   "cell_type": "markdown",
   "metadata": {},
   "source": [
    "# TODO: Recursive NN is probably better suited for this"
   ]
  },
  {
   "cell_type": "markdown",
   "metadata": {},
   "source": [
    "TODO \n",
    "occlusion: change some characters randomly?"
   ]
  }
 ],
 "metadata": {
  "kernelspec": {
   "display_name": "venvTensorflow",
   "language": "python",
   "name": "python3"
  },
  "language_info": {
   "codemirror_mode": {
    "name": "ipython",
    "version": 3
   },
   "file_extension": ".py",
   "mimetype": "text/x-python",
   "name": "python",
   "nbconvert_exporter": "python",
   "pygments_lexer": "ipython3",
   "version": "3.10.8"
  }
 },
 "nbformat": 4,
 "nbformat_minor": 2
}
