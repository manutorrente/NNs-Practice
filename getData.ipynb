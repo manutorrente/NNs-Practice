{
 "cells": [
  {
   "cell_type": "code",
   "execution_count": null,
   "metadata": {},
   "outputs": [],
   "source": [
    "import dataParsing\n",
    "\n",
    "text_parser = dataParsing.text_parser"
   ]
  },
  {
   "cell_type": "markdown",
   "metadata": {},
   "source": [
    "Read the data using the dataParsing modules, to get a dictionary with the word:Counter pairs. The data is not on the repository due to copyright reasons. \n",
    "\n",
    "Data source: https://www1.dict.cc/translation_file_request.php?l=e"
   ]
  },
  {
   "cell_type": "code",
   "execution_count": null,
   "metadata": {},
   "outputs": [],
   "source": [
    "text_parser.empty_dictionary()\n",
    "\n",
    "\n",
    "with open(\"data.txt\", \"r\", encoding=\"utf-8\") as r:\n",
    "    for line in r:\n",
    "        text_parser.parse(line)\n",
    "\n",
    "dict = text_parser.dictionary"
   ]
  },
  {
   "cell_type": "code",
   "execution_count": null,
   "metadata": {},
   "outputs": [],
   "source": [
    "data = {k : v.most_common(1)[0][0] for k, v in dict.items()}"
   ]
  },
  {
   "cell_type": "code",
   "execution_count": null,
   "metadata": {},
   "outputs": [],
   "source": [
    "import pandas as pd\n",
    "\n",
    "dataset = pd.DataFrame.from_dict(data, orient='index')\n",
    "\n",
    "dataset.reset_index(inplace=True)\n",
    "\n",
    "dataset = dataset.rename(columns = {'index': \"word\", 0: \"gender\"})\n",
    "\n",
    "dataset.tail(10)"
   ]
  },
  {
   "cell_type": "code",
   "execution_count": null,
   "metadata": {},
   "outputs": [],
   "source": [
    "data_f = dataset[dataset['gender'] == \"f\"]\n",
    "data_m = dataset[dataset['gender'] == \"m\"]\n",
    "data_n = dataset[dataset['gender'] == \"n\"]\n",
    "\n",
    "longest_word = max(dataset['word'], key=len)\n",
    "\n",
    "character_limit = 32\n",
    "\n",
    "long_words = [word for word in dataset['word'] if len(word) > character_limit]\n",
    "\n",
    "possible_characters = \"abcdefghijklmnopqrstuvwxyzäöüß\"\n",
    "\n",
    "print(\"Total number of words: \" + str(len(dataset)))\n",
    "print(\"Percentage of femenine nouns: \" + str(len(data_f)/len(dataset)*100) + \"%\")\n",
    "print(\"Percentage of masculine nouns: \" + str(len(data_m)/len(dataset)*100) + \"%\")\n",
    "print(\"Percentage of neutral nouns: \" + str(len(data_n)/len(dataset)*100) + \"%\")\n",
    "print(\"Longest word: \" + longest_word + \" (\" + str(len(longest_word)) + \" letters)\")\n",
    "print(\"Words longer than \" + str(character_limit) + \" letters: \" + str(len(long_words)))\n",
    "print(\"Input size: \" + str(character_limit) + \"x\" + str(len(possible_characters)) + \" = \" + str(character_limit*len(possible_characters)))\n"
   ]
  },
  {
   "cell_type": "code",
   "execution_count": null,
   "metadata": {},
   "outputs": [],
   "source": [
    "#save dataset as csv\n",
    "\n",
    "def save_dataset():\n",
    "    dataset.to_csv(\"dataset.csv\", index=False)\n",
    "\n",
    "save_dataset()\n",
    "    "
   ]
  }
 ],
 "metadata": {
  "kernelspec": {
   "display_name": "venvTensorflow",
   "language": "python",
   "name": "python3"
  },
  "language_info": {
   "codemirror_mode": {
    "name": "ipython",
    "version": 3
   },
   "file_extension": ".py",
   "mimetype": "text/x-python",
   "name": "python",
   "nbconvert_exporter": "python",
   "pygments_lexer": "ipython3",
   "version": "3.10.8"
  }
 },
 "nbformat": 4,
 "nbformat_minor": 2
}
